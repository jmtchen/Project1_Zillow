{
 "cells": [
  {
   "cell_type": "code",
   "execution_count": 48,
   "metadata": {
    "collapsed": true
   },
   "outputs": [],
   "source": [
    "import os\n",
    "import pandas as pd"
   ]
  },
  {
   "cell_type": "code",
   "execution_count": 49,
   "metadata": {},
   "outputs": [
    {
     "name": "stderr",
     "output_type": "stream",
     "text": [
      "C:\\Users\\HeeXPS\\Anaconda3\\envs\\PythonData\\lib\\site-packages\\IPython\\core\\interactiveshell.py:2698: DtypeWarning: Columns (49) have mixed types. Specify dtype option on import or set low_memory=False.\n",
      "  interactivity=interactivity, compiler=compiler, result=result)\n"
     ]
    }
   ],
   "source": [
    "#this reads the file and creates a dataframe\n",
    "csv_path = os.path.join('..', 'data', 'properties_2017.csv')\n",
    "df = pd.read_csv(csv_path)"
   ]
  },
  {
   "cell_type": "code",
   "execution_count": 50,
   "metadata": {
    "collapsed": true
   },
   "outputs": [],
   "source": [
    "#this creates the dataframe based on the variables we want\n",
    "df_clean = df[[\"parcelid\", 'bathroomcnt', 'bedroomcnt'\n",
    ", 'buildingqualitytypeid'\n",
    ",'calculatedfinishedsquarefeet'\n",
    ",'latitude'\n",
    ",'longitude'\n",
    ",'numberofstories'\n",
    ",'regionidcounty'\n",
    ",'regionidcity'\n",
    ",'regionidzip'\n",
    ",'structuretaxvaluedollarcnt'\n",
    ",'landtaxvaluedollarcnt'\n",
    "\n",
    "]]"
   ]
  },
  {
   "cell_type": "code",
   "execution_count": 51,
   "metadata": {},
   "outputs": [],
   "source": [
    "#this is for 3 bedrooms\n",
    "three_df = df_clean[df_clean.bedroomcnt == 3].reset_index(drop = True)\n",
    "#this is for 2 bedrooms\n",
    "two_df = df_clean[df_clean.bedroomcnt == 2].reset_index(drop = True)"
   ]
  },
  {
   "cell_type": "code",
   "execution_count": 53,
   "metadata": {},
   "outputs": [
    {
     "data": {
      "text/html": [
       "<div>\n",
       "<style>\n",
       "    .dataframe thead tr:only-child th {\n",
       "        text-align: right;\n",
       "    }\n",
       "\n",
       "    .dataframe thead th {\n",
       "        text-align: left;\n",
       "    }\n",
       "\n",
       "    .dataframe tbody tr th {\n",
       "        vertical-align: top;\n",
       "    }\n",
       "</style>\n",
       "<table border=\"1\" class=\"dataframe\">\n",
       "  <thead>\n",
       "    <tr style=\"text-align: right;\">\n",
       "      <th></th>\n",
       "      <th>parcelid</th>\n",
       "      <th>bathroomcnt</th>\n",
       "      <th>bedroomcnt</th>\n",
       "      <th>buildingqualitytypeid</th>\n",
       "      <th>calculatedfinishedsquarefeet</th>\n",
       "      <th>latitude</th>\n",
       "      <th>longitude</th>\n",
       "      <th>numberofstories</th>\n",
       "      <th>regionidcounty</th>\n",
       "      <th>regionidcity</th>\n",
       "      <th>regionidzip</th>\n",
       "      <th>structuretaxvaluedollarcnt</th>\n",
       "      <th>landtaxvaluedollarcnt</th>\n",
       "    </tr>\n",
       "  </thead>\n",
       "  <tbody>\n",
       "    <tr>\n",
       "      <th>0</th>\n",
       "      <td>11544747</td>\n",
       "      <td>4.0</td>\n",
       "      <td>3.0</td>\n",
       "      <td>11.0</td>\n",
       "      <td>1620.0</td>\n",
       "      <td>33996200.0</td>\n",
       "      <td>-118438000.0</td>\n",
       "      <td>NaN</td>\n",
       "      <td>3101.0</td>\n",
       "      <td>12447.0</td>\n",
       "      <td>96047.0</td>\n",
       "      <td>339532.0</td>\n",
       "      <td>508238.0</td>\n",
       "    </tr>\n",
       "    <tr>\n",
       "      <th>1</th>\n",
       "      <td>11585547</td>\n",
       "      <td>2.0</td>\n",
       "      <td>3.0</td>\n",
       "      <td>8.0</td>\n",
       "      <td>2077.0</td>\n",
       "      <td>34012977.0</td>\n",
       "      <td>-118479243.0</td>\n",
       "      <td>NaN</td>\n",
       "      <td>3101.0</td>\n",
       "      <td>26964.0</td>\n",
       "      <td>96152.0</td>\n",
       "      <td>210192.0</td>\n",
       "      <td>436568.0</td>\n",
       "    </tr>\n",
       "    <tr>\n",
       "      <th>2</th>\n",
       "      <td>11588747</td>\n",
       "      <td>3.0</td>\n",
       "      <td>3.0</td>\n",
       "      <td>5.0</td>\n",
       "      <td>2019.0</td>\n",
       "      <td>34003621.0</td>\n",
       "      <td>-118477513.0</td>\n",
       "      <td>NaN</td>\n",
       "      <td>3101.0</td>\n",
       "      <td>26964.0</td>\n",
       "      <td>96152.0</td>\n",
       "      <td>451786.0</td>\n",
       "      <td>979716.0</td>\n",
       "    </tr>\n",
       "    <tr>\n",
       "      <th>3</th>\n",
       "      <td>12606547</td>\n",
       "      <td>3.0</td>\n",
       "      <td>3.0</td>\n",
       "      <td>7.0</td>\n",
       "      <td>2166.0</td>\n",
       "      <td>33837000.0</td>\n",
       "      <td>-118347000.0</td>\n",
       "      <td>NaN</td>\n",
       "      <td>3101.0</td>\n",
       "      <td>54722.0</td>\n",
       "      <td>96161.0</td>\n",
       "      <td>363000.0</td>\n",
       "      <td>296000.0</td>\n",
       "    </tr>\n",
       "    <tr>\n",
       "      <th>4</th>\n",
       "      <td>12716947</td>\n",
       "      <td>1.0</td>\n",
       "      <td>3.0</td>\n",
       "      <td>4.0</td>\n",
       "      <td>1244.0</td>\n",
       "      <td>33953559.0</td>\n",
       "      <td>-118083855.0</td>\n",
       "      <td>NaN</td>\n",
       "      <td>3101.0</td>\n",
       "      <td>13716.0</td>\n",
       "      <td>96201.0</td>\n",
       "      <td>108040.0</td>\n",
       "      <td>61431.0</td>\n",
       "    </tr>\n",
       "  </tbody>\n",
       "</table>\n",
       "</div>"
      ],
      "text/plain": [
       "   parcelid  bathroomcnt  bedroomcnt  buildingqualitytypeid  \\\n",
       "0  11544747          4.0         3.0                   11.0   \n",
       "1  11585547          2.0         3.0                    8.0   \n",
       "2  11588747          3.0         3.0                    5.0   \n",
       "3  12606547          3.0         3.0                    7.0   \n",
       "4  12716947          1.0         3.0                    4.0   \n",
       "\n",
       "   calculatedfinishedsquarefeet    latitude    longitude  numberofstories  \\\n",
       "0                        1620.0  33996200.0 -118438000.0              NaN   \n",
       "1                        2077.0  34012977.0 -118479243.0              NaN   \n",
       "2                        2019.0  34003621.0 -118477513.0              NaN   \n",
       "3                        2166.0  33837000.0 -118347000.0              NaN   \n",
       "4                        1244.0  33953559.0 -118083855.0              NaN   \n",
       "\n",
       "   regionidcounty  regionidcity  regionidzip  structuretaxvaluedollarcnt  \\\n",
       "0          3101.0       12447.0      96047.0                    339532.0   \n",
       "1          3101.0       26964.0      96152.0                    210192.0   \n",
       "2          3101.0       26964.0      96152.0                    451786.0   \n",
       "3          3101.0       54722.0      96161.0                    363000.0   \n",
       "4          3101.0       13716.0      96201.0                    108040.0   \n",
       "\n",
       "   landtaxvaluedollarcnt  \n",
       "0               508238.0  \n",
       "1               436568.0  \n",
       "2               979716.0  \n",
       "3               296000.0  \n",
       "4                61431.0  "
      ]
     },
     "execution_count": 53,
     "metadata": {},
     "output_type": "execute_result"
    }
   ],
   "source": [
    "#show the three bedroom DataFrame\n",
    "three_df.head()"
   ]
  },
  {
   "cell_type": "code",
   "execution_count": null,
   "metadata": {
    "collapsed": true
   },
   "outputs": [],
   "source": []
  }
 ],
 "metadata": {
  "kernelspec": {
   "display_name": "Python 3",
   "language": "python",
   "name": "python3"
  },
  "language_info": {
   "codemirror_mode": {
    "name": "ipython",
    "version": 3
   },
   "file_extension": ".py",
   "mimetype": "text/x-python",
   "name": "python",
   "nbconvert_exporter": "python",
   "pygments_lexer": "ipython3",
   "version": "3.6.3"
  }
 },
 "nbformat": 4,
 "nbformat_minor": 2
}
