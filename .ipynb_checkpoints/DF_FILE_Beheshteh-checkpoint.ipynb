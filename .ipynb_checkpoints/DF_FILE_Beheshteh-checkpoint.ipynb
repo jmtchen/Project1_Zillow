{
 "cells": [
  {
   "cell_type": "code",
   "execution_count": 2,
   "metadata": {
    "collapsed": true
   },
   "outputs": [],
   "source": [
    "import os\n",
    "import pandas as pd"
   ]
  },
  {
   "cell_type": "code",
   "execution_count": 3,
   "metadata": {},
   "outputs": [
    {
     "name": "stderr",
     "output_type": "stream",
     "text": [
      "C:\\Users\\Beheshteh\\Anaconda3\\lib\\site-packages\\IPython\\core\\interactiveshell.py:2698: DtypeWarning: Columns (49) have mixed types. Specify dtype option on import or set low_memory=False.\n",
      "  interactivity=interactivity, compiler=compiler, result=result)\n"
     ]
    }
   ],
   "source": [
    "#this reads the file and creates a dataframe\n",
    "csv_path = os.path.join('..', 'data', 'properties_2017.csv')\n",
    "df = pd.read_csv(csv_path)"
   ]
  },
  {
   "cell_type": "code",
   "execution_count": 4,
   "metadata": {
    "collapsed": true
   },
   "outputs": [],
   "source": [
    "#this creates the dataframe based on the variables we want\n",
    "df_clean = df[[\"parcelid\", 'bathroomcnt', 'bedroomcnt'\n",
    ", 'buildingqualitytypeid'\n",
    ",'calculatedfinishedsquarefeet'\n",
    ",'latitude'\n",
    ",'longitude'\n",
    ",'numberofstories'\n",
    ",'regionidcounty'\n",
    ",'regionidcity'\n",
    ",'regionidzip'\n",
    ",'structuretaxvaluedollarcnt'\n",
    ",'landtaxvaluedollarcnt'\n",
    "\n",
    "]]"
   ]
  },
  {
   "cell_type": "code",
   "execution_count": 5,
   "metadata": {
    "collapsed": true
   },
   "outputs": [],
   "source": [
    "#this is for 3 bedrooms\n",
    "three_df = df_clean[df_clean.bedroomcnt == 3].reset_index(drop = True)\n",
    "#this is for 2 bedrooms\n",
    "two_df = df_clean[df_clean.bedroomcnt == 2].reset_index(drop = True)"
   ]
  },
  {
   "cell_type": "code",
   "execution_count": 6,
   "metadata": {},
   "outputs": [
    {
     "data": {
      "text/html": [
       "<div>\n",
       "<style>\n",
       "    .dataframe thead tr:only-child th {\n",
       "        text-align: right;\n",
       "    }\n",
       "\n",
       "    .dataframe thead th {\n",
       "        text-align: left;\n",
       "    }\n",
       "\n",
       "    .dataframe tbody tr th {\n",
       "        vertical-align: top;\n",
       "    }\n",
       "</style>\n",
       "<table border=\"1\" class=\"dataframe\">\n",
       "  <thead>\n",
       "    <tr style=\"text-align: right;\">\n",
       "      <th></th>\n",
       "      <th>parcelid</th>\n",
       "      <th>bathroomcnt</th>\n",
       "      <th>bedroomcnt</th>\n",
       "      <th>buildingqualitytypeid</th>\n",
       "      <th>calculatedfinishedsquarefeet</th>\n",
       "      <th>latitude</th>\n",
       "      <th>longitude</th>\n",
       "      <th>numberofstories</th>\n",
       "      <th>regionidcounty</th>\n",
       "      <th>regionidcity</th>\n",
       "      <th>regionidzip</th>\n",
       "      <th>structuretaxvaluedollarcnt</th>\n",
       "      <th>landtaxvaluedollarcnt</th>\n",
       "    </tr>\n",
       "  </thead>\n",
       "  <tbody>\n",
       "    <tr>\n",
       "      <th>0</th>\n",
       "      <td>11544747</td>\n",
       "      <td>4.0</td>\n",
       "      <td>3.0</td>\n",
       "      <td>11.0</td>\n",
       "      <td>1620.0</td>\n",
       "      <td>33996200.0</td>\n",
       "      <td>-118438000.0</td>\n",
       "      <td>NaN</td>\n",
       "      <td>3101.0</td>\n",
       "      <td>12447.0</td>\n",
       "      <td>96047.0</td>\n",
       "      <td>339532.0</td>\n",
       "      <td>508238.0</td>\n",
       "    </tr>\n",
       "    <tr>\n",
       "      <th>1</th>\n",
       "      <td>11585547</td>\n",
       "      <td>2.0</td>\n",
       "      <td>3.0</td>\n",
       "      <td>8.0</td>\n",
       "      <td>2077.0</td>\n",
       "      <td>34012977.0</td>\n",
       "      <td>-118479243.0</td>\n",
       "      <td>NaN</td>\n",
       "      <td>3101.0</td>\n",
       "      <td>26964.0</td>\n",
       "      <td>96152.0</td>\n",
       "      <td>210192.0</td>\n",
       "      <td>436568.0</td>\n",
       "    </tr>\n",
       "    <tr>\n",
       "      <th>2</th>\n",
       "      <td>11588747</td>\n",
       "      <td>3.0</td>\n",
       "      <td>3.0</td>\n",
       "      <td>5.0</td>\n",
       "      <td>2019.0</td>\n",
       "      <td>34003621.0</td>\n",
       "      <td>-118477513.0</td>\n",
       "      <td>NaN</td>\n",
       "      <td>3101.0</td>\n",
       "      <td>26964.0</td>\n",
       "      <td>96152.0</td>\n",
       "      <td>451786.0</td>\n",
       "      <td>979716.0</td>\n",
       "    </tr>\n",
       "    <tr>\n",
       "      <th>3</th>\n",
       "      <td>12606547</td>\n",
       "      <td>3.0</td>\n",
       "      <td>3.0</td>\n",
       "      <td>7.0</td>\n",
       "      <td>2166.0</td>\n",
       "      <td>33837000.0</td>\n",
       "      <td>-118347000.0</td>\n",
       "      <td>NaN</td>\n",
       "      <td>3101.0</td>\n",
       "      <td>54722.0</td>\n",
       "      <td>96161.0</td>\n",
       "      <td>363000.0</td>\n",
       "      <td>296000.0</td>\n",
       "    </tr>\n",
       "    <tr>\n",
       "      <th>4</th>\n",
       "      <td>12716947</td>\n",
       "      <td>1.0</td>\n",
       "      <td>3.0</td>\n",
       "      <td>4.0</td>\n",
       "      <td>1244.0</td>\n",
       "      <td>33953559.0</td>\n",
       "      <td>-118083855.0</td>\n",
       "      <td>NaN</td>\n",
       "      <td>3101.0</td>\n",
       "      <td>13716.0</td>\n",
       "      <td>96201.0</td>\n",
       "      <td>108040.0</td>\n",
       "      <td>61431.0</td>\n",
       "    </tr>\n",
       "  </tbody>\n",
       "</table>\n",
       "</div>"
      ],
      "text/plain": [
       "   parcelid  bathroomcnt  bedroomcnt  buildingqualitytypeid  \\\n",
       "0  11544747          4.0         3.0                   11.0   \n",
       "1  11585547          2.0         3.0                    8.0   \n",
       "2  11588747          3.0         3.0                    5.0   \n",
       "3  12606547          3.0         3.0                    7.0   \n",
       "4  12716947          1.0         3.0                    4.0   \n",
       "\n",
       "   calculatedfinishedsquarefeet    latitude    longitude  numberofstories  \\\n",
       "0                        1620.0  33996200.0 -118438000.0              NaN   \n",
       "1                        2077.0  34012977.0 -118479243.0              NaN   \n",
       "2                        2019.0  34003621.0 -118477513.0              NaN   \n",
       "3                        2166.0  33837000.0 -118347000.0              NaN   \n",
       "4                        1244.0  33953559.0 -118083855.0              NaN   \n",
       "\n",
       "   regionidcounty  regionidcity  regionidzip  structuretaxvaluedollarcnt  \\\n",
       "0          3101.0       12447.0      96047.0                    339532.0   \n",
       "1          3101.0       26964.0      96152.0                    210192.0   \n",
       "2          3101.0       26964.0      96152.0                    451786.0   \n",
       "3          3101.0       54722.0      96161.0                    363000.0   \n",
       "4          3101.0       13716.0      96201.0                    108040.0   \n",
       "\n",
       "   landtaxvaluedollarcnt  \n",
       "0               508238.0  \n",
       "1               436568.0  \n",
       "2               979716.0  \n",
       "3               296000.0  \n",
       "4                61431.0  "
      ]
     },
     "execution_count": 6,
     "metadata": {},
     "output_type": "execute_result"
    }
   ],
   "source": [
    "#show the three bedroom DataFrame\n",
    "three_df.head()"
   ]
  },
  {
   "cell_type": "code",
   "execution_count": 7,
   "metadata": {},
   "outputs": [
    {
     "data": {
      "text/plain": [
       "parcelid                        1172757\n",
       "bathroomcnt                     1172755\n",
       "bedroomcnt                      1172757\n",
       "buildingqualitytypeid            802493\n",
       "calculatedfinishedsquarefeet    1172697\n",
       "latitude                        1172757\n",
       "longitude                       1172757\n",
       "numberofstories                  277102\n",
       "regionidcounty                  1172757\n",
       "regionidcity                    1152897\n",
       "regionidzip                     1169919\n",
       "structuretaxvaluedollarcnt      1171562\n",
       "landtaxvaluedollarcnt           1172654\n",
       "dtype: int64"
      ]
     },
     "execution_count": 7,
     "metadata": {},
     "output_type": "execute_result"
    }
   ],
   "source": [
    "three_df.count()"
   ]
  },
  {
   "cell_type": "code",
   "execution_count": 9,
   "metadata": {},
   "outputs": [
    {
     "data": {
      "image/png": "[encoded data removed]",
      "text/plain": [
       "<matplotlib.figure.Figure at 0x280906890f0>"
      ]
     },
     "metadata": {},
     "output_type": "display_data"
    }
   ],
   "source": [
    "# Longitude vs. Latitude\n",
    "import matplotlib.pyplot as plt\n",
    "# Build a scatter plot for each data type\n",
    "\n",
    "plt.scatter(three_df[\"longitude\"], \n",
    "            three_df[\"latitude\"],\n",
    "            edgecolor=\"black\", linewidths=1, marker=\"o\", \n",
    "            alpha=0.8, label=\"Zip Codes\")\n",
    "\n",
    "# Incorporate the other graph properties\n",
    "plt.title(\"Longitude vs Latitude  \" ) #+ converted_date)\n",
    "plt.ylabel(\"latitude\")\n",
    "plt.xlabel(\"Longitude\")\n",
    "plt.grid(True)\n",
    "plt.xlim([-180, 180])\n",
    "plt.ylim([-90, 90])\n",
    "\n",
    "# Save the figure\n",
    "#plt.savefig(\"output_lon_lat.png\")\n",
    "\n",
    "# Show plot\n",
    "plt.show()"
   ]
  },
  {
   "cell_type": "code",
   "execution_count": null,
   "metadata": {
    "collapsed": true
   },
   "outputs": [],
   "source": [
    "\n",
    "\n",
    "filename = 'apikey.txt'\n",
    "\n",
    "def get_file_contents(filename):\n",
    "    \"\"\" Given a filename,\n",
    "        return the contents of that file\n",
    "    \"\"\"\n",
    "    try:\n",
    "        with open(filename, 'r') as f:\n",
    "            # It's assumed our file contains a single line,\n",
    "            # with our API key\n",
    "            return f.read().strip()\n",
    "    except FileNotFoundError:\n",
    "        print(\"'%s' file not found\" % filename)\n"
   ]
  },
  {
   "cell_type": "code",
   "execution_count": 31,
   "metadata": {},
   "outputs": [
    {
     "name": "stdout",
     "output_type": "stream",
     "text": [
      "15.25\n",
      "15.26\n",
      "8.17\n",
      "[{'coord': {'lon': -121.98, 'lat': 37.23}, 'weather': [{'id': 701, 'main': 'Mist', 'description': 'mist', 'icon': '50d'}], 'base': 'stations', 'main': {'temp': 15.25, 'pressure': 1025, 'humidity': 93, 'temp_min': 13, 'temp_max': 18}, 'visibility': 6437, 'wind': {'speed': 4.6, 'deg': 320}, 'clouds': {'all': 75}, 'dt': 1515706500, 'sys': {'type': 1, 'id': 392, 'message': 0.0054, 'country': 'US', 'sunrise': 1515684092, 'sunset': 1515719480}, 'id': 0, 'name': 'Los Gatos', 'cod': 200}, {'coord': {'lon': -122.09, 'lat': 37.39}, 'weather': [{'id': 701, 'main': 'Mist', 'description': 'mist', 'icon': '50d'}], 'base': 'stations', 'main': {'temp': 15.26, 'pressure': 1025, 'humidity': 93, 'temp_min': 13, 'temp_max': 18}, 'visibility': 6437, 'wind': {'speed': 4.6, 'deg': 320}, 'clouds': {'all': 75}, 'dt': 1515706500, 'sys': {'type': 1, 'id': 392, 'message': 0.0069, 'country': 'US', 'sunrise': 1515684143, 'sunset': 1515719482}, 'id': 0, 'name': 'Mountain View', 'cod': 200}, {'coord': {'lon': -73.98, 'lat': 40.78}, 'weather': [{'id': 721, 'main': 'Haze', 'description': 'haze', 'icon': '50n'}, {'id': 701, 'main': 'Mist', 'description': 'mist', 'icon': '50n'}], 'base': 'stations', 'main': {'temp': 8.17, 'pressure': 1027, 'humidity': 76, 'temp_min': 6, 'temp_max': 11}, 'visibility': 11265, 'wind': {'speed': 1.5}, 'clouds': {'all': 90}, 'dt': 1515707760, 'sys': {'type': 1, 'id': 2121, 'message': 0.0045, 'country': 'US', 'sunrise': 1515673146, 'sunset': 1515707382}, 'id': 0, 'name': 'New York', 'cod': 200}]\n"
     ]
    }
   ],
   "source": [
    "#api.openweathermap.org/data/2.5/weather?zip={zip code},{country code}\n",
    "import json\n",
    "import gzip\n",
    "import matplotlib.pyplot as plt\n",
    "import requests as req\n",
    "url = \"http://api.openweathermap.org/data/2.5/weather?\"\n",
    "units = \"metric\"\n",
    "\n",
    "api_key = \"0107817357c91c780b0c4c57975d26f7\" #get_file_contents(filename)\n",
    "\n",
    "# Build partial query URL\n",
    "query_url = url + \"appid=\" + api_key + \"&units=\" + units + \"&zip=\" \n",
    "temp_list = []\n",
    "humidity_list = []\n",
    "weather_data = []\n",
    "zip_count = 0\n",
    "errordatacount = 0\n",
    "Zipcodes = ['95030', '94040', '10023']\n",
    "\n",
    "# Loop through the list of Zipcodes and perform a request for data on each\n",
    "for zipcode in Zipcodes:\n",
    "                     \n",
    "    response = req.get(query_url + zipcode).json()\n",
    "          \n",
    "    try:\n",
    "        #'main': {'temp': 18.62, 'pressure': 1020.2, 'humidity': 94, 'temp_min': 18.62, 'temp_max': 18.62\n",
    "        temp_list.append(response[\"main\"][\"temp\"])\n",
    "        humidity_list.append(response[\"main\"][\"humidity\"])\n",
    "        weather_data.append(response)\n",
    "        print(temp_list[zip_count]) \n",
    "        zip_count += 1\n",
    "       \n",
    "           \n",
    "    except:\n",
    "        print(\"%s Error with city data. Skipping\", errordatacount)\n",
    "        errordatacount +=1\n",
    "            \n",
    "    \n",
    "#print(weather_data)"
   ]
  },
  {
   "cell_type": "code",
   "execution_count": null,
   "metadata": {
    "collapsed": true
   },
   "outputs": [],
   "source": []
  }
 ],
 "metadata": {
  "kernelspec": {
   "display_name": "Python 3",
   "language": "python",
   "name": "python3"
  },
  "language_info": {
   "codemirror_mode": {
    "name": "ipython",
    "version": 3
   },
   "file_extension": ".py",
   "mimetype": "text/x-python",
   "name": "python",
   "nbconvert_exporter": "python",
   "pygments_lexer": "ipython3",
   "version": "3.6.3"
  }
 },
 "nbformat": 4,
 "nbformat_minor": 2
}
