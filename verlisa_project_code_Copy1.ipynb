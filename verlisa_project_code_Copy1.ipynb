{
 "cells": [
  {
   "cell_type": "code",
   "execution_count": 1,
   "metadata": {
    "collapsed": true
   },
   "outputs": [],
   "source": [
    "import os\n",
    "import pandas as pd\n",
    "import numpy as np\n",
    "import matplotlib.pyplot as plt"
   ]
  },
  {
   "cell_type": "code",
   "execution_count": 2,
   "metadata": {},
   "outputs": [
    {
     "data": {
      "text/plain": [
       "33120"
      ]
     },
     "execution_count": 2,
     "metadata": {},
     "output_type": "execute_result"
    }
   ],
   "source": [
    "csv_path = os.path.join('..', 'data', 'Zip_Zhvi_2bedroom.csv')\n",
    "df_2bed = pd.read_csv(csv_path)\n",
    "csv_path2 = os.path.join('..', 'data', 'Zip_Zhvi_3bedroom.csv')\n",
    "df_3bed = pd.read_csv(csv_path2)\n",
    "csv_path3 = os.path.join('..', 'data', 'census_data.csv')\n",
    "census_df = pd.read_csv(csv_path3)\n",
    "census_df.head()\n",
    "len(census_df)"
   ]
  },
  {
   "cell_type": "code",
   "execution_count": 3,
   "metadata": {},
   "outputs": [
    {
     "data": {
      "text/plain": [
       "33120"
      ]
     },
     "execution_count": 3,
     "metadata": {},
     "output_type": "execute_result"
    }
   ],
   "source": [
    "#Extract unique zipcodes \n",
    "unique_zip=census_df[\"Zipcode\"].unique()\n",
    "len(unique_zip)"
   ]
  },
  {
   "cell_type": "code",
   "execution_count": 4,
   "metadata": {},
   "outputs": [
    {
     "name": "stderr",
     "output_type": "stream",
     "text": [
      "C:\\Users\\HeeXPS\\Anaconda3\\envs\\PythonData\\lib\\site-packages\\ipykernel_launcher.py:6: SettingWithCopyWarning: \n",
      "A value is trying to be set on a copy of a slice from a DataFrame.\n",
      "Try using .loc[row_indexer,col_indexer] = value instead\n",
      "\n",
      "See the caveats in the documentation: http://pandas.pydata.org/pandas-docs/stable/indexing.html#indexing-view-versus-copy\n",
      "  \n"
     ]
    },
    {
     "data": {
      "text/html": [
       "<div>\n",
       "<style>\n",
       "    .dataframe thead tr:only-child th {\n",
       "        text-align: right;\n",
       "    }\n",
       "\n",
       "    .dataframe thead th {\n",
       "        text-align: left;\n",
       "    }\n",
       "\n",
       "    .dataframe tbody tr th {\n",
       "        vertical-align: top;\n",
       "    }\n",
       "</style>\n",
       "<table border=\"1\" class=\"dataframe\">\n",
       "  <thead>\n",
       "    <tr style=\"text-align: right;\">\n",
       "      <th></th>\n",
       "      <th>Zipcode</th>\n",
       "      <th>City</th>\n",
       "      <th>State</th>\n",
       "      <th>CountyName</th>\n",
       "      <th>Price</th>\n",
       "    </tr>\n",
       "  </thead>\n",
       "  <tbody>\n",
       "    <tr>\n",
       "      <th>0</th>\n",
       "      <td>10025</td>\n",
       "      <td>New York</td>\n",
       "      <td>NY</td>\n",
       "      <td>New York</td>\n",
       "      <td>1469200</td>\n",
       "    </tr>\n",
       "    <tr>\n",
       "      <th>1</th>\n",
       "      <td>60657</td>\n",
       "      <td>Chicago</td>\n",
       "      <td>IL</td>\n",
       "      <td>Cook</td>\n",
       "      <td>378200</td>\n",
       "    </tr>\n",
       "    <tr>\n",
       "      <th>2</th>\n",
       "      <td>10023</td>\n",
       "      <td>New York</td>\n",
       "      <td>NY</td>\n",
       "      <td>New York</td>\n",
       "      <td>1968600</td>\n",
       "    </tr>\n",
       "    <tr>\n",
       "      <th>3</th>\n",
       "      <td>60614</td>\n",
       "      <td>Chicago</td>\n",
       "      <td>IL</td>\n",
       "      <td>Cook</td>\n",
       "      <td>405900</td>\n",
       "    </tr>\n",
       "    <tr>\n",
       "      <th>4</th>\n",
       "      <td>79936</td>\n",
       "      <td>El Paso</td>\n",
       "      <td>TX</td>\n",
       "      <td>El Paso</td>\n",
       "      <td>84300</td>\n",
       "    </tr>\n",
       "  </tbody>\n",
       "</table>\n",
       "</div>"
      ],
      "text/plain": [
       "   Zipcode      City State CountyName    Price\n",
       "0    10025  New York    NY   New York  1469200\n",
       "1    60657   Chicago    IL       Cook   378200\n",
       "2    10023  New York    NY   New York  1968600\n",
       "3    60614   Chicago    IL       Cook   405900\n",
       "4    79936   El Paso    TX    El Paso    84300"
      ]
     },
     "execution_count": 4,
     "metadata": {},
     "output_type": "execute_result"
    }
   ],
   "source": [
    "# Analysis using data for 2 bedroom homes\n",
    "df_2a = df_2bed[[\"RegionName\", 'City', 'State'\n",
    ", 'CountyName'\n",
    ",'2017-11']]\n",
    "df2 = df_2a[np.isfinite(df_2a['2017-11'])]\n",
    "df2['2017-11'] = df2['2017-11'].apply(np.int32)\n",
    "df2 = df2.rename(columns={'RegionName': 'Zipcode', '2017-11' : 'Price'})\n",
    "df2.head()"
   ]
  },
  {
   "cell_type": "code",
   "execution_count": 5,
   "metadata": {
    "collapsed": true
   },
   "outputs": [],
   "source": [
    "#Remove zipcodes that are not 5 digits, keep only 5 digit zipcodes\n",
    "df2 = df2.drop(df2[df2.Zipcode > 99999].index)\n",
    "df2 = df2.drop(df2[df2.Zipcode < 9999].index)"
   ]
  },
  {
   "cell_type": "code",
   "execution_count": 6,
   "metadata": {},
   "outputs": [
    {
     "data": {
      "text/plain": [
       "9088"
      ]
     },
     "execution_count": 6,
     "metadata": {},
     "output_type": "execute_result"
    }
   ],
   "source": [
    "# Merge census df and 2br df based on zipcode columns\n",
    "inner_merge_df = pd.merge(df2, census_df, on=\"Zipcode\")\n",
    "inner_merge_df.head()\n",
    "len(inner_merge_df)"
   ]
  },
  {
   "cell_type": "code",
   "execution_count": 7,
   "metadata": {},
   "outputs": [
    {
     "data": {
      "text/plain": [
       "Zipcode                 99901\n",
       "City                     Zuni\n",
       "State                      WY\n",
       "CountyName             Zavala\n",
       "Price                 3225300\n",
       "Population             115104\n",
       "Median Age               75.5\n",
       " Household Income      99,996\n",
       "Per Capita Income      207743\n",
       "Poverty Count           40661\n",
       "Poverty Rate          60.9442\n",
       "dtype: object"
      ]
     },
     "execution_count": 7,
     "metadata": {},
     "output_type": "execute_result"
    }
   ],
   "source": [
    "inner_merge_df.max()"
   ]
  },
  {
   "cell_type": "code",
   "execution_count": 8,
   "metadata": {},
   "outputs": [
    {
     "data": {
      "text/plain": [
       "Zipcode                      10003\n",
       "City                      Aberdeen\n",
       "State                           AK\n",
       "CountyName                     Ada\n",
       "Price                        30100\n",
       "Population                     123\n",
       "Median Age                    19.7\n",
       " Household Income     -666,666,666\n",
       "Per Capita Income             6079\n",
       "Poverty Count                    0\n",
       "Poverty Rate                     0\n",
       "dtype: object"
      ]
     },
     "execution_count": 8,
     "metadata": {},
     "output_type": "execute_result"
    }
   ],
   "source": [
    "inner_merge_df.min()"
   ]
  },
  {
   "cell_type": "code",
   "execution_count": 9,
   "metadata": {
    "scrolled": true
   },
   "outputs": [
    {
     "data": {
      "image/png": "[encoded data removed]",
      "text/plain": [
       "<matplotlib.figure.Figure at 0x21e96da7748>"
      ]
     },
     "metadata": {},
     "output_type": "display_data"
    }
   ],
   "source": [
    "# Population vs Price Plot\n",
    "# Build a scatter plot for each data type\n",
    "plt.scatter(inner_merge_df[\"Population\"], inner_merge_df[\"Price\"], marker=\"o\")\n",
    "\n",
    "# Incorporate the other graph properties\n",
    "plt.title(\"Population vs Price - 2 Bedroom (01/15/2018)\")\n",
    "plt.ylabel(\"Price\")\n",
    "plt.xlabel(\"Population\")\n",
    "plt.grid(True)\n",
    "\n",
    "# Save the figure\n",
    "#plt.savefig(\"LatitudevsTemperaturePlot\")\n",
    "\n",
    "\n",
    "\n",
    "# Show plot\n",
    "plt.show()"
   ]
  },
  {
   "cell_type": "code",
   "execution_count": 10,
   "metadata": {},
   "outputs": [
    {
     "data": {
      "text/html": [
       "<div>\n",
       "<style>\n",
       "    .dataframe thead tr:only-child th {\n",
       "        text-align: right;\n",
       "    }\n",
       "\n",
       "    .dataframe thead th {\n",
       "        text-align: left;\n",
       "    }\n",
       "\n",
       "    .dataframe tbody tr th {\n",
       "        vertical-align: top;\n",
       "    }\n",
       "</style>\n",
       "<table border=\"1\" class=\"dataframe\">\n",
       "  <thead>\n",
       "    <tr style=\"text-align: right;\">\n",
       "      <th></th>\n",
       "      <th>Zipcode</th>\n",
       "      <th>City</th>\n",
       "      <th>State</th>\n",
       "      <th>CountyName</th>\n",
       "      <th>Price</th>\n",
       "    </tr>\n",
       "  </thead>\n",
       "  <tbody>\n",
       "    <tr>\n",
       "      <th>0</th>\n",
       "      <td>60657</td>\n",
       "      <td>Chicago</td>\n",
       "      <td>IL</td>\n",
       "      <td>Cook</td>\n",
       "      <td>567300</td>\n",
       "    </tr>\n",
       "    <tr>\n",
       "      <th>1</th>\n",
       "      <td>60614</td>\n",
       "      <td>Chicago</td>\n",
       "      <td>IL</td>\n",
       "      <td>Cook</td>\n",
       "      <td>628700</td>\n",
       "    </tr>\n",
       "    <tr>\n",
       "      <th>2</th>\n",
       "      <td>79936</td>\n",
       "      <td>El Paso</td>\n",
       "      <td>TX</td>\n",
       "      <td>El Paso</td>\n",
       "      <td>111700</td>\n",
       "    </tr>\n",
       "    <tr>\n",
       "      <th>3</th>\n",
       "      <td>60640</td>\n",
       "      <td>Chicago</td>\n",
       "      <td>IL</td>\n",
       "      <td>Cook</td>\n",
       "      <td>375200</td>\n",
       "    </tr>\n",
       "    <tr>\n",
       "      <th>4</th>\n",
       "      <td>77084</td>\n",
       "      <td>Houston</td>\n",
       "      <td>TX</td>\n",
       "      <td>Harris</td>\n",
       "      <td>151400</td>\n",
       "    </tr>\n",
       "  </tbody>\n",
       "</table>\n",
       "</div>"
      ],
      "text/plain": [
       "   Zipcode     City State CountyName   Price\n",
       "0    60657  Chicago    IL       Cook  567300\n",
       "1    60614  Chicago    IL       Cook  628700\n",
       "2    79936  El Paso    TX    El Paso  111700\n",
       "3    60640  Chicago    IL       Cook  375200\n",
       "4    77084  Houston    TX     Harris  151400"
      ]
     },
     "execution_count": 10,
     "metadata": {},
     "output_type": "execute_result"
    }
   ],
   "source": [
    "df_3a = df_3bed[[\"RegionName\", 'City', 'State'\n",
    ", 'CountyName'\n",
    ",'2017-11']]\n",
    "df3 = df_3a[np.isfinite(df_3a['2017-11'])]\n",
    "df3['2017-11'] = df3['2017-11'].apply(np.int32)\n",
    "df3 = df3.rename(columns={'RegionName': 'Zipcode', '2017-11' : 'Price'})\n",
    "df3.head()"
   ]
  },
  {
   "cell_type": "code",
   "execution_count": 11,
   "metadata": {
    "collapsed": true
   },
   "outputs": [],
   "source": [
    "df3 = df3.drop(df3[df3.Zipcode > 99999].index)\n",
    "df3 = df3.drop(df3[df3.Zipcode < 9999].index)"
   ]
  },
  {
   "cell_type": "code",
   "execution_count": 12,
   "metadata": {},
   "outputs": [
    {
     "data": {
      "text/plain": [
       "11896"
      ]
     },
     "execution_count": 12,
     "metadata": {},
     "output_type": "execute_result"
    }
   ],
   "source": [
    "# Merge census df and 3br df\n",
    "inner_merge_df = pd.merge(df3, census_df, on=\"Zipcode\")\n",
    "inner_merge_df.head()\n",
    "len(inner_merge_df)"
   ]
  },
  {
   "cell_type": "code",
   "execution_count": 13,
   "metadata": {},
   "outputs": [
    {
     "data": {
      "text/plain": [
       "Zipcode                 99901\n",
       "City                     Zuni\n",
       "State                      WY\n",
       "CountyName             Zavala\n",
       "Price                 5319700\n",
       "Population             115104\n",
       "Median Age               75.5\n",
       " Household Income      99,958\n",
       "Per Capita Income      207743\n",
       "Poverty Count           40661\n",
       "Poverty Rate          58.5785\n",
       "dtype: object"
      ]
     },
     "execution_count": 13,
     "metadata": {},
     "output_type": "execute_result"
    }
   ],
   "source": [
    "inner_merge_df.max()"
   ]
  },
  {
   "cell_type": "code",
   "execution_count": 14,
   "metadata": {},
   "outputs": [
    {
     "data": {
      "text/plain": [
       "Zipcode                      10022\n",
       "City                     Abbeville\n",
       "State                           AK\n",
       "CountyName                     Ada\n",
       "Price                        31900\n",
       "Population                      17\n",
       "Median Age            -6.66667e+08\n",
       " Household Income     -666,666,666\n",
       "Per Capita Income             6079\n",
       "Poverty Count                    0\n",
       "Poverty Rate                     0\n",
       "dtype: object"
      ]
     },
     "execution_count": 14,
     "metadata": {},
     "output_type": "execute_result"
    }
   ],
   "source": [
    "inner_merge_df.min()"
   ]
  },
  {
   "cell_type": "code",
   "execution_count": 15,
   "metadata": {},
   "outputs": [
    {
     "data": {
      "image/png": "[encoded data removed]",
      "text/plain": [
       "<matplotlib.figure.Figure at 0x21e96e084e0>"
      ]
     },
     "metadata": {},
     "output_type": "display_data"
    }
   ],
   "source": [
    "# Population vs Price Plot\n",
    "# Build a scatter plot for each data type\n",
    "plt.scatter(inner_merge_df[\"Population\"], inner_merge_df[\"Price\"], marker=\"o\")\n",
    "\n",
    "# Incorporate the other graph properties\n",
    "plt.title(\"Population vs Price - 3 bedroom (01/15/2018)\")\n",
    "plt.ylabel(\"Price\")\n",
    "plt.xlabel(\"Population\")\n",
    "plt.grid(True)\n",
    "\n",
    "# Save the figure\n",
    "#plt.savefig(\"LatitudevsTemperaturePlot\")\n",
    "\n",
    "\n",
    "\n",
    "# Show plot\n",
    "plt.show()"
   ]
  },
  {
   "cell_type": "code",
   "execution_count": 16,
   "metadata": {
    "scrolled": true
   },
   "outputs": [
    {
     "name": "stdout",
     "output_type": "stream",
     "text": [
      "{\n",
      "    \"City\": \"Port Lavaca\",\n",
      "    \"Density\": 50.2800832917852,\n",
      "    \"HouseOfUnits\": 7643,\n",
      "    \"LandArea\": 340.97,\n",
      "    \"Latitude\": 28.5585152,\n",
      "    \"Longitude\": -96.6210611,\n",
      "    \"NEBoundLatitude\": 28.770518,\n",
      "    \"NEBoundLongitude\": -96.322918,\n",
      "    \"Population\": 17144,\n",
      "    \"SWBoundLatitude\": 28.414631099999998,\n",
      "    \"SWBoungLongitude\": -96.913421,\n",
      "    \"State\": \"TX\",\n",
      "    \"TotalWages\": 247092930.0,\n",
      "    \"WaterArea\": 131.99,\n",
      "    \"Wealthy\": 14412.79339710686,\n",
      "    \"Zipcode\": \"77979\",\n",
      "    \"ZipcodeType\": \"Standard\"\n",
      "}\n",
      "28.5585152\n",
      "-96.6210611\n"
     ]
    }
   ],
   "source": [
    "from uszipcode import ZipcodeSearchEngine\n",
    "search = ZipcodeSearchEngine()\n",
    "zipcode = search.by_zipcode(\"77979\")\n",
    "print(zipcode)\n",
    "print(zipcode['Latitude'])\n",
    "print(zipcode['Longitude'])"
   ]
  },
  {
   "cell_type": "code",
   "execution_count": 17,
   "metadata": {},
   "outputs": [
    {
     "data": {
      "text/html": [
       "<div>\n",
       "<style>\n",
       "    .dataframe thead tr:only-child th {\n",
       "        text-align: right;\n",
       "    }\n",
       "\n",
       "    .dataframe thead th {\n",
       "        text-align: left;\n",
       "    }\n",
       "\n",
       "    .dataframe tbody tr th {\n",
       "        vertical-align: top;\n",
       "    }\n",
       "</style>\n",
       "<table border=\"1\" class=\"dataframe\">\n",
       "  <thead>\n",
       "    <tr style=\"text-align: right;\">\n",
       "      <th></th>\n",
       "      <th>Zipcode</th>\n",
       "      <th>City</th>\n",
       "      <th>State</th>\n",
       "      <th>CountyName</th>\n",
       "      <th>Price</th>\n",
       "      <th>Population</th>\n",
       "      <th>Median Age</th>\n",
       "      <th>Household Income</th>\n",
       "      <th>Per Capita Income</th>\n",
       "      <th>Poverty Count</th>\n",
       "      <th>Poverty Rate</th>\n",
       "    </tr>\n",
       "  </thead>\n",
       "  <tbody>\n",
       "    <tr>\n",
       "      <th>0</th>\n",
       "      <td>60657</td>\n",
       "      <td>Chicago</td>\n",
       "      <td>IL</td>\n",
       "      <td>Cook</td>\n",
       "      <td>567300</td>\n",
       "      <td>70105</td>\n",
       "      <td>30.9</td>\n",
       "      <td>84,319</td>\n",
       "      <td>67680.0</td>\n",
       "      <td>6455</td>\n",
       "      <td>9.207617</td>\n",
       "    </tr>\n",
       "    <tr>\n",
       "      <th>1</th>\n",
       "      <td>60614</td>\n",
       "      <td>Chicago</td>\n",
       "      <td>IL</td>\n",
       "      <td>Cook</td>\n",
       "      <td>628700</td>\n",
       "      <td>69817</td>\n",
       "      <td>30.1</td>\n",
       "      <td>94,640</td>\n",
       "      <td>71659.0</td>\n",
       "      <td>6822</td>\n",
       "      <td>9.771259</td>\n",
       "    </tr>\n",
       "    <tr>\n",
       "      <th>2</th>\n",
       "      <td>79936</td>\n",
       "      <td>El Paso</td>\n",
       "      <td>TX</td>\n",
       "      <td>El Paso</td>\n",
       "      <td>111700</td>\n",
       "      <td>113255</td>\n",
       "      <td>31.2</td>\n",
       "      <td>52,422</td>\n",
       "      <td>22053.0</td>\n",
       "      <td>15663</td>\n",
       "      <td>13.829853</td>\n",
       "    </tr>\n",
       "    <tr>\n",
       "      <th>3</th>\n",
       "      <td>60640</td>\n",
       "      <td>Chicago</td>\n",
       "      <td>IL</td>\n",
       "      <td>Cook</td>\n",
       "      <td>375200</td>\n",
       "      <td>67088</td>\n",
       "      <td>37.5</td>\n",
       "      <td>47,390</td>\n",
       "      <td>38673.0</td>\n",
       "      <td>14206</td>\n",
       "      <td>21.175173</td>\n",
       "    </tr>\n",
       "    <tr>\n",
       "      <th>4</th>\n",
       "      <td>77084</td>\n",
       "      <td>Houston</td>\n",
       "      <td>TX</td>\n",
       "      <td>Harris</td>\n",
       "      <td>151400</td>\n",
       "      <td>103635</td>\n",
       "      <td>32.6</td>\n",
       "      <td>66,914</td>\n",
       "      <td>27973.0</td>\n",
       "      <td>11839</td>\n",
       "      <td>11.423747</td>\n",
       "    </tr>\n",
       "  </tbody>\n",
       "</table>\n",
       "</div>"
      ],
      "text/plain": [
       "   Zipcode     City State CountyName   Price  Population  Median Age  \\\n",
       "0    60657  Chicago    IL       Cook  567300       70105        30.9   \n",
       "1    60614  Chicago    IL       Cook  628700       69817        30.1   \n",
       "2    79936  El Paso    TX    El Paso  111700      113255        31.2   \n",
       "3    60640  Chicago    IL       Cook  375200       67088        37.5   \n",
       "4    77084  Houston    TX     Harris  151400      103635        32.6   \n",
       "\n",
       "   Household Income   Per Capita Income  Poverty Count  Poverty Rate  \n",
       "0             84,319            67680.0           6455      9.207617  \n",
       "1             94,640            71659.0           6822      9.771259  \n",
       "2             52,422            22053.0          15663     13.829853  \n",
       "3             47,390            38673.0          14206     21.175173  \n",
       "4             66,914            27973.0          11839     11.423747  "
      ]
     },
     "execution_count": 17,
     "metadata": {},
     "output_type": "execute_result"
    }
   ],
   "source": [
    "inner_merge_df.head()"
   ]
  },
  {
   "cell_type": "code",
   "execution_count": 18,
   "metadata": {
    "collapsed": true
   },
   "outputs": [],
   "source": [
    "latlnglist = []\n",
    "\n",
    "for zip in inner_merge_df['Zipcode']:\n",
    "    search = ZipcodeSearchEngine()\n",
    "    zipcode = search.by_zipcode(zip)\n",
    "    lat = zipcode['Latitude']\n",
    "    lng = zipcode['Longitude']\n",
    "    zipcoord = {\"Zipcode\": zip, \"Lat\":lat, \"Lng\": lng}\n",
    "    latlnglist.append(zipcoord)\n",
    "    \n",
    "    \n",
    "    \n",
    "    \n"
   ]
  },
  {
   "cell_type": "code",
   "execution_count": 19,
   "metadata": {},
   "outputs": [
    {
     "name": "stdout",
     "output_type": "stream",
     "text": [
      "{'Zipcode': 60657, 'Lat': 41.9403795, 'Lng': -87.65318049999998}\n"
     ]
    }
   ],
   "source": [
    "print(latlnglist[0])"
   ]
  },
  {
   "cell_type": "code",
   "execution_count": 20,
   "metadata": {},
   "outputs": [
    {
     "data": {
      "text/html": [
       "<div>\n",
       "<style>\n",
       "    .dataframe thead tr:only-child th {\n",
       "        text-align: right;\n",
       "    }\n",
       "\n",
       "    .dataframe thead th {\n",
       "        text-align: left;\n",
       "    }\n",
       "\n",
       "    .dataframe tbody tr th {\n",
       "        vertical-align: top;\n",
       "    }\n",
       "</style>\n",
       "<table border=\"1\" class=\"dataframe\">\n",
       "  <thead>\n",
       "    <tr style=\"text-align: right;\">\n",
       "      <th></th>\n",
       "      <th>Lat</th>\n",
       "      <th>Lng</th>\n",
       "      <th>Zipcode</th>\n",
       "    </tr>\n",
       "  </thead>\n",
       "  <tbody>\n",
       "    <tr>\n",
       "      <th>0</th>\n",
       "      <td>41.940379</td>\n",
       "      <td>-87.653180</td>\n",
       "      <td>60657</td>\n",
       "    </tr>\n",
       "    <tr>\n",
       "      <th>1</th>\n",
       "      <td>41.920347</td>\n",
       "      <td>-87.643314</td>\n",
       "      <td>60614</td>\n",
       "    </tr>\n",
       "    <tr>\n",
       "      <th>2</th>\n",
       "      <td>31.759979</td>\n",
       "      <td>-106.287521</td>\n",
       "      <td>79936</td>\n",
       "    </tr>\n",
       "    <tr>\n",
       "      <th>3</th>\n",
       "      <td>41.970313</td>\n",
       "      <td>-87.663045</td>\n",
       "      <td>60640</td>\n",
       "    </tr>\n",
       "    <tr>\n",
       "      <th>4</th>\n",
       "      <td>29.829651</td>\n",
       "      <td>-95.666831</td>\n",
       "      <td>77084</td>\n",
       "    </tr>\n",
       "  </tbody>\n",
       "</table>\n",
       "</div>"
      ],
      "text/plain": [
       "         Lat         Lng  Zipcode\n",
       "0  41.940379  -87.653180    60657\n",
       "1  41.920347  -87.643314    60614\n",
       "2  31.759979 -106.287521    79936\n",
       "3  41.970313  -87.663045    60640\n",
       "4  29.829651  -95.666831    77084"
      ]
     },
     "execution_count": 20,
     "metadata": {},
     "output_type": "execute_result"
    }
   ],
   "source": [
    "hdf = pd.DataFrame(latlnglist)\n",
    "hdf.head()"
   ]
  },
  {
   "cell_type": "code",
   "execution_count": 21,
   "metadata": {
    "scrolled": true
   },
   "outputs": [
    {
     "data": {
      "text/html": [
       "<div>\n",
       "<style>\n",
       "    .dataframe thead tr:only-child th {\n",
       "        text-align: right;\n",
       "    }\n",
       "\n",
       "    .dataframe thead th {\n",
       "        text-align: left;\n",
       "    }\n",
       "\n",
       "    .dataframe tbody tr th {\n",
       "        vertical-align: top;\n",
       "    }\n",
       "</style>\n",
       "<table border=\"1\" class=\"dataframe\">\n",
       "  <thead>\n",
       "    <tr style=\"text-align: right;\">\n",
       "      <th></th>\n",
       "      <th>Zipcode</th>\n",
       "      <th>City</th>\n",
       "      <th>State</th>\n",
       "      <th>CountyName</th>\n",
       "      <th>Price</th>\n",
       "      <th>Population</th>\n",
       "      <th>Median Age</th>\n",
       "      <th>Household Income</th>\n",
       "      <th>Per Capita Income</th>\n",
       "      <th>Poverty Count</th>\n",
       "      <th>Poverty Rate</th>\n",
       "      <th>Lat</th>\n",
       "      <th>Lng</th>\n",
       "    </tr>\n",
       "  </thead>\n",
       "  <tbody>\n",
       "    <tr>\n",
       "      <th>0</th>\n",
       "      <td>60657</td>\n",
       "      <td>Chicago</td>\n",
       "      <td>IL</td>\n",
       "      <td>Cook</td>\n",
       "      <td>567300</td>\n",
       "      <td>70105</td>\n",
       "      <td>30.9</td>\n",
       "      <td>84,319</td>\n",
       "      <td>67680.0</td>\n",
       "      <td>6455</td>\n",
       "      <td>9.207617</td>\n",
       "      <td>41.940379</td>\n",
       "      <td>-87.653180</td>\n",
       "    </tr>\n",
       "    <tr>\n",
       "      <th>1</th>\n",
       "      <td>60614</td>\n",
       "      <td>Chicago</td>\n",
       "      <td>IL</td>\n",
       "      <td>Cook</td>\n",
       "      <td>628700</td>\n",
       "      <td>69817</td>\n",
       "      <td>30.1</td>\n",
       "      <td>94,640</td>\n",
       "      <td>71659.0</td>\n",
       "      <td>6822</td>\n",
       "      <td>9.771259</td>\n",
       "      <td>41.920347</td>\n",
       "      <td>-87.643314</td>\n",
       "    </tr>\n",
       "    <tr>\n",
       "      <th>2</th>\n",
       "      <td>79936</td>\n",
       "      <td>El Paso</td>\n",
       "      <td>TX</td>\n",
       "      <td>El Paso</td>\n",
       "      <td>111700</td>\n",
       "      <td>113255</td>\n",
       "      <td>31.2</td>\n",
       "      <td>52,422</td>\n",
       "      <td>22053.0</td>\n",
       "      <td>15663</td>\n",
       "      <td>13.829853</td>\n",
       "      <td>31.759979</td>\n",
       "      <td>-106.287521</td>\n",
       "    </tr>\n",
       "    <tr>\n",
       "      <th>3</th>\n",
       "      <td>60640</td>\n",
       "      <td>Chicago</td>\n",
       "      <td>IL</td>\n",
       "      <td>Cook</td>\n",
       "      <td>375200</td>\n",
       "      <td>67088</td>\n",
       "      <td>37.5</td>\n",
       "      <td>47,390</td>\n",
       "      <td>38673.0</td>\n",
       "      <td>14206</td>\n",
       "      <td>21.175173</td>\n",
       "      <td>41.970313</td>\n",
       "      <td>-87.663045</td>\n",
       "    </tr>\n",
       "    <tr>\n",
       "      <th>4</th>\n",
       "      <td>77084</td>\n",
       "      <td>Houston</td>\n",
       "      <td>TX</td>\n",
       "      <td>Harris</td>\n",
       "      <td>151400</td>\n",
       "      <td>103635</td>\n",
       "      <td>32.6</td>\n",
       "      <td>66,914</td>\n",
       "      <td>27973.0</td>\n",
       "      <td>11839</td>\n",
       "      <td>11.423747</td>\n",
       "      <td>29.829651</td>\n",
       "      <td>-95.666831</td>\n",
       "    </tr>\n",
       "  </tbody>\n",
       "</table>\n",
       "</div>"
      ],
      "text/plain": [
       "   Zipcode     City State CountyName   Price  Population  Median Age  \\\n",
       "0    60657  Chicago    IL       Cook  567300       70105        30.9   \n",
       "1    60614  Chicago    IL       Cook  628700       69817        30.1   \n",
       "2    79936  El Paso    TX    El Paso  111700      113255        31.2   \n",
       "3    60640  Chicago    IL       Cook  375200       67088        37.5   \n",
       "4    77084  Houston    TX     Harris  151400      103635        32.6   \n",
       "\n",
       "   Household Income   Per Capita Income  Poverty Count  Poverty Rate  \\\n",
       "0             84,319            67680.0           6455      9.207617   \n",
       "1             94,640            71659.0           6822      9.771259   \n",
       "2             52,422            22053.0          15663     13.829853   \n",
       "3             47,390            38673.0          14206     21.175173   \n",
       "4             66,914            27973.0          11839     11.423747   \n",
       "\n",
       "         Lat         Lng  \n",
       "0  41.940379  -87.653180  \n",
       "1  41.920347  -87.643314  \n",
       "2  31.759979 -106.287521  \n",
       "3  41.970313  -87.663045  \n",
       "4  29.829651  -95.666831  "
      ]
     },
     "execution_count": 21,
     "metadata": {},
     "output_type": "execute_result"
    }
   ],
   "source": [
    "latlngmerge = pd.merge(inner_merge_df, hdf, on=\"Zipcode\")\n",
    "latlngmerge.head()"
   ]
  },
  {
   "cell_type": "code",
   "execution_count": 22,
   "metadata": {
    "scrolled": true
   },
   "outputs": [
    {
     "data": {
      "text/plain": [
       "Index(['Zipcode', 'City', 'State', 'CountyName', 'Price', 'Population',\n",
       "       'Median Age', ' Household Income ', 'Per Capita Income',\n",
       "       'Poverty Count', 'Poverty Rate', 'Lat', 'Lng'],\n",
       "      dtype='object')"
      ]
     },
     "execution_count": 22,
     "metadata": {},
     "output_type": "execute_result"
    }
   ],
   "source": [
    "latlngmerge.columns"
   ]
  },
  {
   "cell_type": "code",
   "execution_count": 23,
   "metadata": {},
   "outputs": [
    {
     "data": {
      "text/plain": [
       "Zipcode                 int64\n",
       "City                   object\n",
       "State                  object\n",
       "CountyName             object\n",
       "Price                   int64\n",
       "Population              int64\n",
       "Median Age            float64\n",
       " Household Income      object\n",
       "Income                float64\n",
       "Poverty Count           int64\n",
       "Poverty Rate          float64\n",
       "Lat                   float64\n",
       "Lng                   float64\n",
       "dtype: object"
      ]
     },
     "execution_count": 23,
     "metadata": {},
     "output_type": "execute_result"
    }
   ],
   "source": [
    "hkdf = latlngmerge.rename(index=str, columns={'Per Capita Income': \"Income\"})\n",
    "hkdf.dtypes"
   ]
  },
  {
   "cell_type": "code",
   "execution_count": 24,
   "metadata": {},
   "outputs": [
    {
     "data": {
      "text/html": [
       "<div>\n",
       "<style>\n",
       "    .dataframe thead tr:only-child th {\n",
       "        text-align: right;\n",
       "    }\n",
       "\n",
       "    .dataframe thead th {\n",
       "        text-align: left;\n",
       "    }\n",
       "\n",
       "    .dataframe tbody tr th {\n",
       "        vertical-align: top;\n",
       "    }\n",
       "</style>\n",
       "<table border=\"1\" class=\"dataframe\">\n",
       "  <thead>\n",
       "    <tr style=\"text-align: right;\">\n",
       "      <th></th>\n",
       "      <th>Zipcode</th>\n",
       "      <th>City</th>\n",
       "      <th>State</th>\n",
       "      <th>CountyName</th>\n",
       "      <th>Price</th>\n",
       "      <th>Population</th>\n",
       "      <th>Median Age</th>\n",
       "      <th>Household Income</th>\n",
       "      <th>Income</th>\n",
       "      <th>Poverty Count</th>\n",
       "      <th>Poverty Rate</th>\n",
       "      <th>Lat</th>\n",
       "      <th>Lng</th>\n",
       "    </tr>\n",
       "  </thead>\n",
       "  <tbody>\n",
       "    <tr>\n",
       "      <th>0</th>\n",
       "      <td>60657</td>\n",
       "      <td>Chicago</td>\n",
       "      <td>IL</td>\n",
       "      <td>Cook</td>\n",
       "      <td>567300</td>\n",
       "      <td>70105</td>\n",
       "      <td>30.9</td>\n",
       "      <td>84,319</td>\n",
       "      <td>Middle</td>\n",
       "      <td>6455</td>\n",
       "      <td>9.207617</td>\n",
       "      <td>41.940379</td>\n",
       "      <td>-87.653180</td>\n",
       "    </tr>\n",
       "    <tr>\n",
       "      <th>1</th>\n",
       "      <td>60614</td>\n",
       "      <td>Chicago</td>\n",
       "      <td>IL</td>\n",
       "      <td>Cook</td>\n",
       "      <td>628700</td>\n",
       "      <td>69817</td>\n",
       "      <td>30.1</td>\n",
       "      <td>94,640</td>\n",
       "      <td>Middle</td>\n",
       "      <td>6822</td>\n",
       "      <td>9.771259</td>\n",
       "      <td>41.920347</td>\n",
       "      <td>-87.643314</td>\n",
       "    </tr>\n",
       "    <tr>\n",
       "      <th>2</th>\n",
       "      <td>79936</td>\n",
       "      <td>El Paso</td>\n",
       "      <td>TX</td>\n",
       "      <td>El Paso</td>\n",
       "      <td>111700</td>\n",
       "      <td>113255</td>\n",
       "      <td>31.2</td>\n",
       "      <td>52,422</td>\n",
       "      <td>Low</td>\n",
       "      <td>15663</td>\n",
       "      <td>13.829853</td>\n",
       "      <td>31.759979</td>\n",
       "      <td>-106.287521</td>\n",
       "    </tr>\n",
       "    <tr>\n",
       "      <th>3</th>\n",
       "      <td>60640</td>\n",
       "      <td>Chicago</td>\n",
       "      <td>IL</td>\n",
       "      <td>Cook</td>\n",
       "      <td>375200</td>\n",
       "      <td>67088</td>\n",
       "      <td>37.5</td>\n",
       "      <td>47,390</td>\n",
       "      <td>Low</td>\n",
       "      <td>14206</td>\n",
       "      <td>21.175173</td>\n",
       "      <td>41.970313</td>\n",
       "      <td>-87.663045</td>\n",
       "    </tr>\n",
       "    <tr>\n",
       "      <th>4</th>\n",
       "      <td>77084</td>\n",
       "      <td>Houston</td>\n",
       "      <td>TX</td>\n",
       "      <td>Harris</td>\n",
       "      <td>151400</td>\n",
       "      <td>103635</td>\n",
       "      <td>32.6</td>\n",
       "      <td>66,914</td>\n",
       "      <td>Low</td>\n",
       "      <td>11839</td>\n",
       "      <td>11.423747</td>\n",
       "      <td>29.829651</td>\n",
       "      <td>-95.666831</td>\n",
       "    </tr>\n",
       "  </tbody>\n",
       "</table>\n",
       "</div>"
      ],
      "text/plain": [
       "   Zipcode     City State CountyName   Price  Population  Median Age  \\\n",
       "0    60657  Chicago    IL       Cook  567300       70105        30.9   \n",
       "1    60614  Chicago    IL       Cook  628700       69817        30.1   \n",
       "2    79936  El Paso    TX    El Paso  111700      113255        31.2   \n",
       "3    60640  Chicago    IL       Cook  375200       67088        37.5   \n",
       "4    77084  Houston    TX     Harris  151400      103635        32.6   \n",
       "\n",
       "   Household Income   Income  Poverty Count  Poverty Rate        Lat  \\\n",
       "0             84,319  Middle           6455      9.207617  41.940379   \n",
       "1             94,640  Middle           6822      9.771259  41.920347   \n",
       "2             52,422     Low          15663     13.829853  31.759979   \n",
       "3             47,390     Low          14206     21.175173  41.970313   \n",
       "4             66,914     Low          11839     11.423747  29.829651   \n",
       "\n",
       "          Lng  \n",
       "0  -87.653180  \n",
       "1  -87.643314  \n",
       "2 -106.287521  \n",
       "3  -87.663045  \n",
       "4  -95.666831  "
      ]
     },
     "execution_count": 24,
     "metadata": {},
     "output_type": "execute_result"
    }
   ],
   "source": [
    "bins = [0, 50000, 125000, 9999999]\n",
    "\n",
    "group_names = ['Low', 'Middle', 'High']\n",
    "pd.cut(hkdf[\"Income\"], bins, labels=group_names)\n",
    "hkdf[\"Income\"] = pd.cut(hkdf[\"Income\"],\n",
    "                                           bins, labels=group_names)\n",
    "hkdf.head()"
   ]
  },
  {
   "cell_type": "code",
   "execution_count": 25,
   "metadata": {
    "collapsed": true
   },
   "outputs": [],
   "source": [
    "Lowincome = hkdf[hkdf[\"Income\"] == \"Low\"]\n",
    "Mediumincome = hkdf[hkdf[\"Income\"] == \"Middle\"]\n",
    "Highincome = hkdf[hkdf[\"Income\"] == \"High\"]\n",
    "\n",
    "lowlat = Lowincome.groupby([\"Zipcode\"]).max()[\"Lat\"]\n",
    "lowlng = Lowincome.groupby([\"Zipcode\"]).max()[\"Lng\"]\n",
    "lowprice = Lowincome.groupby([\"Zipcode\"]).mean()[\"Price\"]\n",
    "\n",
    "Mediumlat = Mediumincome.groupby([\"Zipcode\"]).max()[\"Lat\"]\n",
    "Mediumlng = Mediumincome.groupby([\"Zipcode\"]).max()[\"Lng\"]\n",
    "Mediumprice = Mediumincome.groupby([\"Zipcode\"]).mean()[\"Price\"]\n",
    "\n",
    "Highlat = Highincome.groupby([\"Zipcode\"]).max()[\"Lat\"]\n",
    "Highlng = Highincome.groupby([\"Zipcode\"]).max()[\"Lng\"]\n",
    "Highprice = Mediumincome.groupby([\"Zipcode\"]).mean()[\"Price\"]\n"
   ]
  },
  {
   "cell_type": "code",
   "execution_count": 39,
   "metadata": {
    "collapsed": true
   },
   "outputs": [],
   "source": [
    "dollar = '$'"
   ]
  },
  {
   "cell_type": "code",
   "execution_count": 42,
   "metadata": {
    "scrolled": true
   },
   "outputs": [
    {
     "data": {
      "image/png": "[encoded data removed]",
      "text/plain": [
       "<matplotlib.figure.Figure at 0x21e97f3bcc0>"
      ]
     },
     "metadata": {},
     "output_type": "display_data"
    }
   ],
   "source": [
    "plt.figure(figsize = (10,10))\n",
    "plt.scatter(lowlng, \n",
    "            lowlat, \n",
    "            s=lowprice / 10000, c=\"red\", \n",
    "            edgecolor=\"black\", linewidths=1, marker=\"o\", \n",
    "            alpha=0.8, label=\"Low Income\")\n",
    "\n",
    "plt.scatter(Mediumlng, \n",
    "            Mediumlat, \n",
    "            s=Mediumprice / 10000, c=\"orange\", \n",
    "            edgecolor=\"black\", linewidths=1, marker=\"o\", \n",
    "            alpha=0.8, label=\"Medium Income\")\n",
    "\n",
    "plt.scatter(Highlng, \n",
    "            Highlat, \n",
    "            s=Highprice / 10000, c=\"blue\", \n",
    "            edgecolor=\"black\", linewidths=1, marker=\"o\", \n",
    "            alpha=0.8, label=\"High Income\")\n",
    "\n",
    "plt.title(\"Pyber Ride Sharing Data (2016)\")\n",
    "plt.ylabel(\"Average Fare ($)\")\n",
    "plt.xlabel(\"Total Number of Rides (Per City)\")\n",
    "plt.grid(True)\n",
    "\n",
    "# Create a legend\n",
    "lgnd = plt.legend(fontsize=\"small\", mode=\"Expanded\", \n",
    "                  numpoints=1, scatterpoints=1, \n",
    "                  loc=\"best\", title=\"City Types\", \n",
    "                  labelspacing=0.5)\n",
    "lgnd.legendHandles[0]._sizes = [30]\n",
    "lgnd.legendHandles[1]._sizes = [30]\n",
    "lgnd.legendHandles[2]._sizes = [30]\n",
    "\n",
    "plt.xlim((-140,-60))\n",
    "# Incorporate a text label regarding circle size\n",
    "# plt.text(42, 35, \"Note:\\nCircle size correlates with driver count per city.\")\n",
    "\n",
    "plt.show()"
   ]
  },
  {
   "cell_type": "raw",
   "metadata": {
    "collapsed": true
   },
   "source": []
  },
  {
   "cell_type": "code",
   "execution_count": null,
   "metadata": {
    "collapsed": true
   },
   "outputs": [],
   "source": []
  }
 ],
 "metadata": {
  "kernelspec": {
   "display_name": "Python 3",
   "language": "python",
   "name": "python3"
  },
  "language_info": {
   "codemirror_mode": {
    "name": "ipython",
    "version": 3
   },
   "file_extension": ".py",
   "mimetype": "text/x-python",
   "name": "python",
   "nbconvert_exporter": "python",
   "pygments_lexer": "ipython3",
   "version": "3.6.3"
  }
 },
 "nbformat": 4,
 "nbformat_minor": 2
}
