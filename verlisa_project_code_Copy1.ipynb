{
 "cells": [
  {
   "cell_type": "code",
   "execution_count": 3,
   "metadata": {
    "collapsed": true
   },
   "outputs": [],
   "source": [
    "import os\n",
    "import pandas as pd\n",
    "import numpy as np\n",
    "import matplotlib.pyplot as plt"
   ]
  },
  {
   "cell_type": "code",
   "execution_count": 4,
   "metadata": {},
   "outputs": [
    {
     "data": {
      "text/plain": [
       "33120"
      ]
     },
     "execution_count": 4,
     "metadata": {},
     "output_type": "execute_result"
    }
   ],
   "source": [
    "csv_path = os.path.join('..', 'data', 'Zip_Zhvi_2bedroom.csv')\n",
    "df_2bed = pd.read_csv(csv_path)\n",
    "csv_path2 = os.path.join('..', 'data', 'Zip_Zhvi_3bedroom.csv')\n",
    "df_3bed = pd.read_csv(csv_path2)\n",
    "csv_path3 = os.path.join('..', 'data', 'census_data.csv')\n",
    "census_df = pd.read_csv(csv_path3)\n",
    "census_df.head()\n",
    "len(census_df)"
   ]
  },
  {
   "cell_type": "code",
   "execution_count": 5,
   "metadata": {},
   "outputs": [
    {
     "data": {
      "text/plain": [
       "33120"
      ]
     },
     "execution_count": 5,
     "metadata": {},
     "output_type": "execute_result"
    }
   ],
   "source": [
    "#Extract unique zipcodes \n",
    "unique_zip=census_df[\"Zipcode\"].unique()\n",
    "len(unique_zip)"
   ]
  },
  {
   "cell_type": "code",
   "execution_count": 6,
   "metadata": {},
   "outputs": [
    {
     "name": "stderr",
     "output_type": "stream",
     "text": [
      "C:\\Users\\vjace\\Anaconda3\\lib\\site-packages\\ipykernel_launcher.py:5: SettingWithCopyWarning: \n",
      "A value is trying to be set on a copy of a slice from a DataFrame.\n",
      "Try using .loc[row_indexer,col_indexer] = value instead\n",
      "\n",
      "See the caveats in the documentation: http://pandas.pydata.org/pandas-docs/stable/indexing.html#indexing-view-versus-copy\n",
      "  \"\"\"\n"
     ]
    },
    {
     "data": {
      "text/html": [
       "<div>\n",
       "<style>\n",
       "    .dataframe thead tr:only-child th {\n",
       "        text-align: right;\n",
       "    }\n",
       "\n",
       "    .dataframe thead th {\n",
       "        text-align: left;\n",
       "    }\n",
       "\n",
       "    .dataframe tbody tr th {\n",
       "        vertical-align: top;\n",
       "    }\n",
       "</style>\n",
       "<table border=\"1\" class=\"dataframe\">\n",
       "  <thead>\n",
       "    <tr style=\"text-align: right;\">\n",
       "      <th></th>\n",
       "      <th>Zipcode</th>\n",
       "      <th>City</th>\n",
       "      <th>State</th>\n",
       "      <th>CountyName</th>\n",
       "      <th>Price</th>\n",
       "    </tr>\n",
       "  </thead>\n",
       "  <tbody>\n",
       "    <tr>\n",
       "      <th>0</th>\n",
       "      <td>10025</td>\n",
       "      <td>New York</td>\n",
       "      <td>NY</td>\n",
       "      <td>New York</td>\n",
       "      <td>1469200</td>\n",
       "    </tr>\n",
       "    <tr>\n",
       "      <th>1</th>\n",
       "      <td>60657</td>\n",
       "      <td>Chicago</td>\n",
       "      <td>IL</td>\n",
       "      <td>Cook</td>\n",
       "      <td>378200</td>\n",
       "    </tr>\n",
       "    <tr>\n",
       "      <th>2</th>\n",
       "      <td>10023</td>\n",
       "      <td>New York</td>\n",
       "      <td>NY</td>\n",
       "      <td>New York</td>\n",
       "      <td>1968600</td>\n",
       "    </tr>\n",
       "    <tr>\n",
       "      <th>3</th>\n",
       "      <td>60614</td>\n",
       "      <td>Chicago</td>\n",
       "      <td>IL</td>\n",
       "      <td>Cook</td>\n",
       "      <td>405900</td>\n",
       "    </tr>\n",
       "    <tr>\n",
       "      <th>4</th>\n",
       "      <td>79936</td>\n",
       "      <td>El Paso</td>\n",
       "      <td>TX</td>\n",
       "      <td>El Paso</td>\n",
       "      <td>84300</td>\n",
       "    </tr>\n",
       "  </tbody>\n",
       "</table>\n",
       "</div>"
      ],
      "text/plain": [
       "   Zipcode      City State CountyName    Price\n",
       "0    10025  New York    NY   New York  1469200\n",
       "1    60657   Chicago    IL       Cook   378200\n",
       "2    10023  New York    NY   New York  1968600\n",
       "3    60614   Chicago    IL       Cook   405900\n",
       "4    79936   El Paso    TX    El Paso    84300"
      ]
     },
     "execution_count": 6,
     "metadata": {},
     "output_type": "execute_result"
    }
   ],
   "source": [
    "# Analysis using data for 2 bedroom homes\n",
    "df_2a = df_2bed[[\"RegionName\", 'City', 'State'\n",
    ", 'CountyName'\n",
    ",'2017-11']]\n",
    "df2 = df_2a[np.isfinite(df_2a['2017-11'])]\n",
    "df2['2017-11'] = df2['2017-11'].apply(np.int32)\n",
    "df2 = df2.rename(columns={'RegionName': 'Zipcode', '2017-11' : 'Price'})\n",
    "df2.head()"
   ]
  },
  {
   "cell_type": "code",
   "execution_count": 7,
   "metadata": {
    "collapsed": true
   },
   "outputs": [],
   "source": [
    "#Remove zipcodes that are not 5 digits, keep only 5 digit zipcodes\n",
    "df2 = df2.drop(df2[df2.Zipcode > 99999].index)\n",
    "df2 = df2.drop(df2[df2.Zipcode < 9999].index)"
   ]
  },
  {
   "cell_type": "code",
   "execution_count": 8,
   "metadata": {},
   "outputs": [
    {
     "data": {
      "text/plain": [
       "9088"
      ]
     },
     "execution_count": 8,
     "metadata": {},
     "output_type": "execute_result"
    }
   ],
   "source": [
    "# Merge census df and 2br df based on zipcode columns\n",
    "inner_merge_df = pd.merge(df2, census_df, on=\"Zipcode\")\n",
    "inner_merge_df.head()\n",
    "len(inner_merge_df)"
   ]
  },
  {
   "cell_type": "code",
   "execution_count": 12,
   "metadata": {},
   "outputs": [
    {
     "data": {
      "text/plain": [
       "Zipcode                  99901\n",
       "City                      Zuni\n",
       "State                       WY\n",
       "CountyName              Zavala\n",
       "Price                  3225300\n",
       "Population              115104\n",
       "Median Age                75.5\n",
       " Household Income      99,996 \n",
       "Per Capita Income       207743\n",
       "Poverty Count            40661\n",
       "Poverty Rate           60.9442\n",
       "dtype: object"
      ]
     },
     "execution_count": 12,
     "metadata": {},
     "output_type": "execute_result"
    }
   ],
   "source": [
    "inner_merge_df.max()"
   ]
  },
  {
   "cell_type": "code",
   "execution_count": 13,
   "metadata": {},
   "outputs": [
    {
     "data": {
      "text/plain": [
       "Zipcode                        10003\n",
       "City                        Aberdeen\n",
       "State                             AK\n",
       "CountyName                       Ada\n",
       "Price                          30100\n",
       "Population                       123\n",
       "Median Age                      19.7\n",
       " Household Income      (666,666,666)\n",
       "Per Capita Income               6079\n",
       "Poverty Count                      0\n",
       "Poverty Rate                       0\n",
       "dtype: object"
      ]
     },
     "execution_count": 13,
     "metadata": {},
     "output_type": "execute_result"
    }
   ],
   "source": [
    "inner_merge_df.min()"
   ]
  },
  {
   "cell_type": "code",
   "execution_count": 14,
   "metadata": {
    "scrolled": true
   },
   "outputs": [
    {
     "data": {
      "image/png": "[encoded data removed]",
      "text/plain": [
       "<matplotlib.figure.Figure at 0x166712ecc18>"
      ]
     },
     "metadata": {},
     "output_type": "display_data"
    }
   ],
   "source": [
    "# Population vs Price Plot\n",
    "# Build a scatter plot for each data type\n",
    "plt.scatter(inner_merge_df[\"Population\"], inner_merge_df[\"Price\"], marker=\"o\")\n",
    "\n",
    "# Incorporate the other graph properties\n",
    "plt.title(\"Population vs Price - 2 Bedroom (01/15/2018)\")\n",
    "plt.ylabel(\"Price\")\n",
    "plt.xlabel(\"Population\")\n",
    "plt.grid(True)\n",
    "\n",
    "# Save the figure\n",
    "#plt.savefig(\"LatitudevsTemperaturePlot\")\n",
    "\n",
    "\n",
    "\n",
    "# Show plot\n",
    "plt.show()"
   ]
  },
  {
   "cell_type": "code",
   "execution_count": 16,
   "metadata": {},
   "outputs": [
    {
     "data": {
      "text/html": [
       "<div>\n",
       "<style>\n",
       "    .dataframe thead tr:only-child th {\n",
       "        text-align: right;\n",
       "    }\n",
       "\n",
       "    .dataframe thead th {\n",
       "        text-align: left;\n",
       "    }\n",
       "\n",
       "    .dataframe tbody tr th {\n",
       "        vertical-align: top;\n",
       "    }\n",
       "</style>\n",
       "<table border=\"1\" class=\"dataframe\">\n",
       "  <thead>\n",
       "    <tr style=\"text-align: right;\">\n",
       "      <th></th>\n",
       "      <th>Zipcode</th>\n",
       "      <th>City</th>\n",
       "      <th>State</th>\n",
       "      <th>CountyName</th>\n",
       "      <th>Price</th>\n",
       "    </tr>\n",
       "  </thead>\n",
       "  <tbody>\n",
       "    <tr>\n",
       "      <th>0</th>\n",
       "      <td>60657</td>\n",
       "      <td>Chicago</td>\n",
       "      <td>IL</td>\n",
       "      <td>Cook</td>\n",
       "      <td>567300</td>\n",
       "    </tr>\n",
       "    <tr>\n",
       "      <th>1</th>\n",
       "      <td>60614</td>\n",
       "      <td>Chicago</td>\n",
       "      <td>IL</td>\n",
       "      <td>Cook</td>\n",
       "      <td>628700</td>\n",
       "    </tr>\n",
       "    <tr>\n",
       "      <th>2</th>\n",
       "      <td>79936</td>\n",
       "      <td>El Paso</td>\n",
       "      <td>TX</td>\n",
       "      <td>El Paso</td>\n",
       "      <td>111700</td>\n",
       "    </tr>\n",
       "    <tr>\n",
       "      <th>3</th>\n",
       "      <td>60640</td>\n",
       "      <td>Chicago</td>\n",
       "      <td>IL</td>\n",
       "      <td>Cook</td>\n",
       "      <td>375200</td>\n",
       "    </tr>\n",
       "    <tr>\n",
       "      <th>4</th>\n",
       "      <td>77084</td>\n",
       "      <td>Houston</td>\n",
       "      <td>TX</td>\n",
       "      <td>Harris</td>\n",
       "      <td>151400</td>\n",
       "    </tr>\n",
       "  </tbody>\n",
       "</table>\n",
       "</div>"
      ],
      "text/plain": [
       "   Zipcode     City State CountyName   Price\n",
       "0    60657  Chicago    IL       Cook  567300\n",
       "1    60614  Chicago    IL       Cook  628700\n",
       "2    79936  El Paso    TX    El Paso  111700\n",
       "3    60640  Chicago    IL       Cook  375200\n",
       "4    77084  Houston    TX     Harris  151400"
      ]
     },
     "execution_count": 16,
     "metadata": {},
     "output_type": "execute_result"
    }
   ],
   "source": [
    "df_3a = df_3bed[[\"RegionName\", 'City', 'State'\n",
    ", 'CountyName'\n",
    ",'2017-11']]\n",
    "df3 = df_3a[np.isfinite(df_3a['2017-11'])]\n",
    "df3['2017-11'] = df3['2017-11'].apply(np.int32)\n",
    "df3 = df3.rename(columns={'RegionName': 'Zipcode', '2017-11' : 'Price'})\n",
    "df3.head()"
   ]
  },
  {
   "cell_type": "code",
   "execution_count": 17,
   "metadata": {
    "collapsed": true
   },
   "outputs": [],
   "source": [
    "df3 = df3.drop(df3[df3.Zipcode > 99999].index)\n",
    "df3 = df3.drop(df3[df3.Zipcode < 9999].index)"
   ]
  },
  {
   "cell_type": "code",
   "execution_count": 18,
   "metadata": {},
   "outputs": [
    {
     "data": {
      "text/plain": [
       "11896"
      ]
     },
     "execution_count": 18,
     "metadata": {},
     "output_type": "execute_result"
    }
   ],
   "source": [
    "# Merge census df and 3br df\n",
    "inner_merge_df = pd.merge(df3, census_df, on=\"Zipcode\")\n",
    "inner_merge_df.head()\n",
    "len(inner_merge_df)"
   ]
  },
  {
   "cell_type": "code",
   "execution_count": 19,
   "metadata": {},
   "outputs": [
    {
     "data": {
      "text/plain": [
       "Zipcode                  99901\n",
       "City                      Zuni\n",
       "State                       WY\n",
       "CountyName              Zavala\n",
       "Price                  5319700\n",
       "Population              115104\n",
       "Median Age                75.5\n",
       " Household Income      99,958 \n",
       "Per Capita Income       207743\n",
       "Poverty Count            40661\n",
       "Poverty Rate           58.5785\n",
       "dtype: object"
      ]
     },
     "execution_count": 19,
     "metadata": {},
     "output_type": "execute_result"
    }
   ],
   "source": [
    "inner_merge_df.max()"
   ]
  },
  {
   "cell_type": "code",
   "execution_count": 20,
   "metadata": {},
   "outputs": [
    {
     "data": {
      "text/plain": [
       "Zipcode                        10022\n",
       "City                       Abbeville\n",
       "State                             AK\n",
       "CountyName                       Ada\n",
       "Price                          31900\n",
       "Population                        17\n",
       "Median Age              -6.66667e+08\n",
       " Household Income      (666,666,666)\n",
       "Per Capita Income               6079\n",
       "Poverty Count                      0\n",
       "Poverty Rate                       0\n",
       "dtype: object"
      ]
     },
     "execution_count": 20,
     "metadata": {},
     "output_type": "execute_result"
    }
   ],
   "source": [
    "inner_merge_df.min()"
   ]
  },
  {
   "cell_type": "code",
   "execution_count": 21,
   "metadata": {},
   "outputs": [
    {
     "data": {
      "image/png": "[encoded data removed]",
      "text/plain": [
       "<matplotlib.figure.Figure at 0x16671516908>"
      ]
     },
     "metadata": {},
     "output_type": "display_data"
    }
   ],
   "source": [
    "# Population vs Price Plot\n",
    "# Build a scatter plot for each data type\n",
    "plt.scatter(inner_merge_df[\"Population\"], inner_merge_df[\"Price\"], marker=\"o\")\n",
    "\n",
    "# Incorporate the other graph properties\n",
    "plt.title(\"Population vs Price - 3 bedroom (01/15/2018)\")\n",
    "plt.ylabel(\"Price\")\n",
    "plt.xlabel(\"Population\")\n",
    "plt.grid(True)\n",
    "\n",
    "# Save the figure\n",
    "#plt.savefig(\"LatitudevsTemperaturePlot\")\n",
    "\n",
    "\n",
    "\n",
    "# Show plot\n",
    "plt.show()"
   ]
  }
 ],
 "metadata": {
  "kernelspec": {
   "display_name": "Python 3",
   "language": "python",
   "name": "python3"
  },
  "language_info": {
   "codemirror_mode": {
    "name": "ipython",
    "version": 3
   },
   "file_extension": ".py",
   "mimetype": "text/x-python",
   "name": "python",
   "nbconvert_exporter": "python",
   "pygments_lexer": "ipython3",
   "version": "3.6.3"
  }
 },
 "nbformat": 4,
 "nbformat_minor": 2
}
